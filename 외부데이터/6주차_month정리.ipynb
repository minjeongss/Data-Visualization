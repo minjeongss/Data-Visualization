{
 "cells": [
  {
   "cell_type": "code",
   "execution_count": 17,
   "metadata": {},
   "outputs": [
    {
     "data": {
      "text/plain": [
       "pandas.core.frame.DataFrame"
      ]
     },
     "execution_count": 17,
     "metadata": {},
     "output_type": "execute_result"
    }
   ],
   "source": [
    "import pandas as pd\n",
    "df=pd.read_csv(r\"C:\\Users\\82109\\Documents\\내 Tableau 리포지토리\\데이터 원본\\netflix-shows\\netflix_titles.csv\")\n",
    "#read_csv 엔터 후 ()를 사용한다면 에러가 뜨니 조심하기!\n",
    "\n",
    "#df.head() => 데이터 앞부분만 읽기 위해\n",
    "#type(df)"
   ]
  },
  {
   "cell_type": "code",
   "execution_count": 19,
   "metadata": {},
   "outputs": [
    {
     "name": "stdout",
     "output_type": "stream",
     "text": [
      "show_id            0\n",
      "type               0\n",
      "title              0\n",
      "director        1969\n",
      "cast             570\n",
      "country          476\n",
      "date_added        11\n",
      "release_year       0\n",
      "rating            10\n",
      "duration           0\n",
      "listed_in          0\n",
      "description        0\n",
      "dtype: int64\n"
     ]
    }
   ],
   "source": [
    "print(df.isna().sum())\n",
    "df.fillna(0,inplace=True)"
   ]
  },
  {
   "cell_type": "code",
   "execution_count": 20,
   "metadata": {},
   "outputs": [
    {
     "name": "stdout",
     "output_type": "stream",
     "text": [
      "Index(['show_id', 'type', 'title', 'director', 'cast', 'country', 'date_added',\n",
      "       'release_year', 'rating', 'duration', 'listed_in', 'description'],\n",
      "      dtype='object')\n"
     ]
    }
   ],
   "source": [
    "print(df.columns)"
   ]
  },
  {
   "cell_type": "code",
   "execution_count": 21,
   "metadata": {},
   "outputs": [
    {
     "name": "stdout",
     "output_type": "stream",
     "text": [
      "<bound method IndexOpsMixin.value_counts of 0       September 9, 2019\n",
      "1       September 9, 2016\n",
      "2       September 8, 2018\n",
      "3       September 8, 2018\n",
      "4       September 8, 2017\n",
      "              ...        \n",
      "6229                    0\n",
      "6230                    0\n",
      "6231                    0\n",
      "6232                    0\n",
      "6233                    0\n",
      "Name: date_added, Length: 6234, dtype: object>\n"
     ]
    }
   ],
   "source": [
    "print(df['date_added'].value_counts)"
   ]
  },
  {
   "cell_type": "code",
   "execution_count": 22,
   "metadata": {},
   "outputs": [],
   "source": [
    "date_MonthSort=[]\n",
    "for i in df['date_added']:\n",
    "    if i==0:\n",
    "        date_MonthSort.append('0')\n",
    "    elif 'January' in i:\n",
    "        date_MonthSort.append('1월')\n",
    "    elif 'February' in i:\n",
    "        date_MonthSort.append('2월')\n",
    "    elif 'March' in i:\n",
    "        date_MonthSort.append('3월')\n",
    "    elif 'April' in i:\n",
    "        date_MonthSort.append('4월')\n",
    "    elif 'May' in i:\n",
    "        date_MonthSort.append('5월')\n",
    "    elif 'June' in i:\n",
    "        date_MonthSort.append('6월')\n",
    "    elif 'July' in i:\n",
    "        date_MonthSort.append('7월')\n",
    "    elif 'August' in i:\n",
    "        date_MonthSort.append('8월')\n",
    "    elif 'September' in i:\n",
    "        date_MonthSort.append('9월')\n",
    "    elif 'October' in i:\n",
    "        date_MonthSort.append('10월')\n",
    "    elif 'November' in i:\n",
    "        date_MonthSort.append('11월')\n",
    "    elif 'December' in i:\n",
    "        date_MonthSort.append('12월')\n",
    "    else:\n",
    "        date_MonthSort.append('기타')\n",
    "df=df.assign(date_monthSort=date_MonthSort)"
   ]
  },
  {
   "cell_type": "code",
   "execution_count": 23,
   "metadata": {},
   "outputs": [
    {
     "name": "stdout",
     "output_type": "stream",
     "text": [
      "12월    696\n",
      "10월    646\n",
      "11월    612\n",
      "1월     610\n",
      "3월     551\n",
      "8월     509\n",
      "9월     479\n",
      "7월     474\n",
      "4월     447\n",
      "5월     428\n",
      "6월     393\n",
      "2월     378\n",
      "0       11\n",
      "Name: date_monthSort, dtype: int64\n"
     ]
    }
   ],
   "source": [
    "print(df['date_monthSort'].value_counts())"
   ]
  },
  {
   "cell_type": "code",
   "execution_count": 24,
   "metadata": {},
   "outputs": [],
   "source": [
    "df.to_csv(r\"C:\\Users\\82109\\Documents\\내 Tableau 리포지토리\\데이터 원본\\netflix-shows\\netflix_new.csv\")"
   ]
  }
 ],
 "metadata": {
  "kernelspec": {
   "display_name": "Python 3",
   "language": "python",
   "name": "python3"
  },
  "language_info": {
   "codemirror_mode": {
    "name": "ipython",
    "version": 3
   },
   "file_extension": ".py",
   "mimetype": "text/x-python",
   "name": "python",
   "nbconvert_exporter": "python",
   "pygments_lexer": "ipython3",
   "version": "3.8.5"
  }
 },
 "nbformat": 4,
 "nbformat_minor": 4
}
