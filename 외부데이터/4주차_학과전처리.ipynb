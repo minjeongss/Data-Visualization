{
 "cells": [
  {
   "cell_type": "code",
   "execution_count": 5,
   "metadata": {},
   "outputs": [
    {
     "name": "stdout",
     "output_type": "stream",
     "text": [
      "poeple.xlsx 데이터 : 5605행 * 16열\n"
     ]
    }
   ],
   "source": [
    "import pandas as pd\n",
    "df=pd.read_excel\\\n",
    "(r\"C:\\Users\\82109\\Documents\\내 Tableau 리포지토리\\데이터 원본\\235679_국회 입법활동 빅데이터 시각화 경진대회_data\\people.xlsx\")\n",
    "print('poeple.xlsx 데이터 : {}행 * {}열'.format(len(df), len(df.columns)))"
   ]
  },
  {
   "cell_type": "code",
   "execution_count": 28,
   "metadata": {},
   "outputs": [
    {
     "name": "stdout",
     "output_type": "stream",
     "text": [
      "DAESU          0\n",
      "DAE            0\n",
      "DAE_NM         0\n",
      "NAME           0\n",
      "NAME_HAN       0\n",
      "JA          5515\n",
      "HO          4222\n",
      "BIRTH        365\n",
      "BON         2828\n",
      "POSI        1288\n",
      "HAK            7\n",
      "HOBBY       3308\n",
      "BOOK        3725\n",
      "SANG        3375\n",
      "DEAD           0\n",
      "URL            0\n",
      "dtype: int64\n"
     ]
    }
   ],
   "source": [
    "#결측값 전부 0으로 바꾸기\n",
    "print(df.isna().sum())\n",
    "df.fillna(0, inplace=True)"
   ]
  },
  {
   "cell_type": "code",
   "execution_count": 29,
   "metadata": {},
   "outputs": [
    {
     "name": "stdout",
     "output_type": "stream",
     "text": [
      "Index(['DAESU', 'DAE', 'DAE_NM', 'NAME', 'NAME_HAN', 'JA', 'HO', 'BIRTH',\n",
      "       'BON', 'POSI', 'HAK', 'HOBBY', 'BOOK', 'SANG', 'DEAD', 'URL'],\n",
      "      dtype='object')\n"
     ]
    }
   ],
   "source": [
    "print(df.columns)"
   ]
  },
  {
   "cell_type": "code",
   "execution_count": 10,
   "metadata": {},
   "outputs": [
    {
     "name": "stdout",
     "output_type": "stream",
     "text": [
      "본인이 비공개를 요청하였습니다.                                                                                                                                                                                                                                                                                                                                                                                                                                                                                                                                                                          20\n",
      "1951  서울대학교 문리대학 철학과 졸업\\r\\n1974  미국타우슨주립대학교 명예문학박사\\r\\n1993  미국 아메리칸대학교 명예국제정치학박사\\r\\n1994  일본 와세다대학교 명에법학박사\\r\\n1994  러시아 모스크바대학교 명예정치학박사\\r\\n1995  프랑스 소르본느대학교 명예철학박사\\r\\n        미국 조지타운대학교 명예인문학박사\\r\\n        미국 뉴욕대학교 명예법학박사\\r\\n1996  미국 미네소타대학교 명에법학박사\\r\\n2005  대한 중국문화대학 명예정치학박사\\r\\n2006  원광대학교 명에정치학박사\\r\\n\\r\\n\\r\\n1963  민정당 대변인\\r\\n1966  민중당 원내총무(최연소 원내총무)\\r\\n1967  신민당 원내총무(최다선 원내총무. 5선)\\r\\n1970  신민당 대통령 후보 지명대회 출마\\r\\n1974. 1979  신민당 총재\\r\\n1984  민주화추진협의회(민추협)공동의장\\r\\n1985  신한민주당 총재\\r\\n1987. 1988  통일민주당 총재\\r\\n1992  민주자유당 총재\\r\\n1993  대한민국 대통령(~1998)\\r\\n2004  북한민주화동맨 명예위원장     9\n",
      "서울대 사범대학 교육학부 수료 \\r\\n육군사관학교(제8기)\\r\\n중앙정보부장 \\r\\n민주공화당 당의장\\r\\n국무총리(11대, 31대) \\r\\n민주공화당 총재\\r\\n신민주공화당 총재 \\r\\n민주자유당 대표위원\\r\\n자유민주연합 총재 \\r\\n한일의원연맹 회장\\r\\n2002년 월드컵축구국회의원연맹 의장 \\r\\n5·16민족상 재단 총재\\r\\n                                                                                                                                                                                                                                                                                                                                                                                                9\n",
      "서울대학교정치외교학과졸업\\r\\n미국브라운대학교국제정치학석사\\r\\n미국콜롬비아대학교공법행정과박사과정수료\\r\\n서울대정치과교수\\r\\n미국하바드,버클리,스탠포드대학연수\\r\\n국회외무위원장\\r\\n민주공화당의장\\r\\n남북국회회담수석대표\\r\\n민주정의당대표위원\\r\\n대통령특사UN대표,IPU명예회원\\r\\n국회의장3선(13,14,15)\\r\\n\\r\\n                                                                                                                                                                                                                                                                                                                                                                                                9\n",
      "건국대학교정외과졸업\\r\\n고대경영대학원\\r\\nPSU법학박사\\r\\n초대ㆍ2대서울시의회의원\\r\\n동아정경연구회장\\r\\n건국대재단이사\\r\\n민주당ㆍ신민당ㆍ민정당중앙상임위원\\r\\n신민당정책의장ㆍ원내총무ㆍ최고위원\\r\\n민정당서울제9지구당위원장\\r\\n민정당서울시지부부위원장\\r\\n민정당조직국장\\r\\n민정당당무위원\\r\\n통일민주당대통령선거대책본부장\\r\\n민자당당무위원\\r\\n국회부의장                                                                                                                                                                                                                                                                                                                                                                             8\n",
      "                                                                                                                                                                                                                                                                                                                                                                                                                                                                                                                                                                                           ..\n",
      "만주중앙경찰학교졸업\\r\\n일본내무성(현)일본경찰대학졸업\\r\\n만주중앙경찰학교조교수\\r\\n만주고시행정과합격\\r\\n해방후장백현한국인회장\\r\\n신민당충남도지부위원장\\r\\n신민당지도위원(재무위원)\\r\\n                                                                                                                                                                                                                                                                                                                                                                                                                                                                               1\n",
      "상주농잠학교중퇴\\r\\n치안유지회장\\r\\n상주군청년회회장\\r\\n사립화령중학교설립\\r\\n상주교육위원\\r\\n경북도교육위원\\r\\n                                                                                                                                                                                                                                                                                                                                                                                                                                                                                                                        1\n",
      "경희대학교 정치외교학과 수료\\r\\n\\r\\n전)기본소득당 대표\\r\\n현)경기도 기본소득위원회 위원                                                                                                                                                                                                                                                                                                                                                                                                                                                                                                                                       1\n",
      "마산공립고등여학교5년졸업\\r\\n부산시초대시의원\\r\\n부산시의회문교사회분과위원장\\r\\n대한적십자사경남지사부지사장\\r\\n부산시교육위원\\r\\n여성저축생활부산시지부장\\r\\n부산시정자문위원                                                                                                                                                                                                                                                                                                                                                                                                                                                                                        1\n",
      "일본중앙대학 법과졸업\\r\\n일고문시험사법과합격\\r\\n대법원장\\r\\n변호사                                                                                                                                                                                                                                                                                                                                                                                                                                                                                                                                                    1\n",
      "Name: HAK, Length: 3048, dtype: int64\n"
     ]
    }
   ],
   "source": [
    "print(df['HAK'].value_counts())"
   ]
  },
  {
   "cell_type": "code",
   "execution_count": 32,
   "metadata": {},
   "outputs": [],
   "source": [
    "hak_type=[]\n",
    "for i in df['HAK']:\n",
    "    if i == 0:\n",
    "        hak_type.append('0')\n",
    "    elif ('언어' or '국어' or '문학' or \n",
    "          '일본어' or '중국어' or '영어' or '독일' or '러시아' or '스페인' or '프랑스' or '유럽' or \n",
    "          '문헌' or '문화' or '사학' or '심리' or '역사' or '고고' or '종교' or '철학') in i:\n",
    "        hak_type.append('인문')\n",
    "    elif ('경영'or'경제'or'관광'or'광고'or'홍보'or'금융'or'회계'or'세무'or'무역'or'유통')in i:\n",
    "        hak_type.append('경영경제')\n",
    "    elif '법' in i:\n",
    "        hak_type.append('법률')\n",
    "    elif ('가족'or'사회'or'복지'or'국제'or'도시'or'지역'or'언론'or'방송'or'매체'or'정치'or'외교'or'행정')in i:\n",
    "        hak_type.append('사회과학')\n",
    "    elif '교육' in i:\n",
    "        hak_type.append('교육')\n",
    "    elif ('건축'or'설비'or'조경'or'토목'or'도시'or'교통'or'항공'or'해양'or\n",
    "         '기계'or'금속'or'자동차'or\n",
    "         '전기'or'전자'or'제어'or'계측'or\n",
    "         '광학'or'에너지'or'반도체'or'세라믹'or'섬유'or'신소재'or'재료'or\n",
    "         '전산'or'컴퓨터'or'소프트웨어'or'정보'or'통신'or\n",
    "          '산업'or'화공'or'가전'or'응용'\n",
    "         )in i:\n",
    "        hak_type.append('공학')\n",
    "    elif ('농업'or'수산'or'산림'or'원예'or\n",
    "          '생명'or'생물'or'동물'or'수의'or'자원'or'화학'or'환경'or\n",
    "         '가정'or'식품'or'영양'or'의류'or'의상'or\n",
    "         '수학'or'통계'or'물리'or'천문'or'기상'or'지구'or'지리')in i:\n",
    "        hak_type.append('자연')\n",
    "    elif ('의학'or'치의학'or'한의학'or'간호'or'약학'or'보건'or'재활'or'의료')in i:\n",
    "        hak_type.append('의약')\n",
    "    elif ('디자인'or'공예'or'사진'or'만화'or'영상'or'예술'or\n",
    "          '무용'or'체육'or'미술'or'조형'or'연극'or'영화'or\n",
    "         '음악'or'국악'or'기악'or'성악'or'작곡')in i:\n",
    "        hak_type.append('예체능')\n",
    "    else:\n",
    "        hak_type.append('기타')\n",
    "          \n",
    "df=df.assign(HAK_TYPE=hak_type)"
   ]
  },
  {
   "cell_type": "code",
   "execution_count": 33,
   "metadata": {},
   "outputs": [
    {
     "name": "stdout",
     "output_type": "stream",
     "text": [
      "법률      2167\n",
      "기타      1945\n",
      "경영경제     863\n",
      "교육       355\n",
      "자연       105\n",
      "사회과학      70\n",
      "의약        69\n",
      "공학        17\n",
      "0          7\n",
      "예체능        5\n",
      "인문         2\n",
      "Name: HAK_TYPE, dtype: int64\n"
     ]
    }
   ],
   "source": [
    "print(df['HAK_TYPE'].value_counts())"
   ]
  },
  {
   "cell_type": "code",
   "execution_count": 34,
   "metadata": {},
   "outputs": [],
   "source": [
    "df.to_excel\\\n",
    "(r\"C:\\Users\\82109\\Documents\\내 Tableau 리포지토리\\데이터 원본\\235679_국회 입법활동 빅데이터 시각화 경진대회_data\\people_change.xlsx\")"
   ]
  }
 ],
 "metadata": {
  "kernelspec": {
   "display_name": "Python 3",
   "language": "python",
   "name": "python3"
  },
  "language_info": {
   "codemirror_mode": {
    "name": "ipython",
    "version": 3
   },
   "file_extension": ".py",
   "mimetype": "text/x-python",
   "name": "python",
   "nbconvert_exporter": "python",
   "pygments_lexer": "ipython3",
   "version": "3.8.5"
  }
 },
 "nbformat": 4,
 "nbformat_minor": 4
}
